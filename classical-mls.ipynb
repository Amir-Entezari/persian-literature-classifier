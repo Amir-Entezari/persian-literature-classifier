{
 "metadata": {
  "kernelspec": {
   "language": "python",
   "display_name": "Python 3",
   "name": "python3"
  },
  "language_info": {
   "name": "python",
   "version": "3.10.13",
   "mimetype": "text/x-python",
   "codemirror_mode": {
    "name": "ipython",
    "version": 3
   },
   "pygments_lexer": "ipython3",
   "nbconvert_exporter": "python",
   "file_extension": ".py"
  },
  "kaggle": {
   "accelerator": "nvidiaTeslaT4",
   "dataSources": [
    {
     "sourceId": 7643360,
     "sourceType": "datasetVersion",
     "datasetId": 4455020
    }
   ],
   "dockerImageVersionId": 30648,
   "isInternetEnabled": true,
   "language": "python",
   "sourceType": "notebook",
   "isGpuEnabled": true
  }
 },
 "nbformat_minor": 4,
 "nbformat": 4,
 "cells": [
  {
   "cell_type": "markdown",
   "source": [
    "## Importing Libraries\n",
    "\n",
    "In this block, we import the necessary libraries for our machine learning project. Here's a brief explanation of each library:\n",
    "\n",
    "- `pandas as pd`: This library is used for data manipulation and analysis. It offers data structures and operations for manipulating numerical tables and time series.\n",
    "- `sklearn.model_selection`: This module provides functions to split arrays or matrices into random train and test subsets. \n",
    "- `transformers`: This library offers state-of-the-art pre-trained models for natural language processing (NLP) tasks. It includes implementations of various transformer architectures.\n",
    "- `torch`: PyTorch is an open-source machine learning library based on the Torch library. It provides tensor computation with strong GPU acceleration and deep neural networks built on a tape-based autograd system.\n",
    "- `sklearn.metrics`: This module implements functions to evaluate the accuracy of a classification model. It includes functions for computing accuracy scores, generating classification reports, and creating confusion matrices.\n",
    "- `numpy as np`: NumPy is a library for the Python programming language, adding support for large, multi-dimensional arrays and matrices, along with a large collection of high-level mathematical functions to operate on these arrays.\n",
    "- `matplotlib.pyplot as plt`: Matplotlib is a plotting library for the Python programming language and its numerical mathematics extension NumPy. It provides an object-oriented API for embedding plots into applications using general-purpose GUI toolkits like Tkinter, wxPython, Qt, or GTK.\n",
    "- `seaborn as sns`: Seaborn is a Python visualization library based on matplotlib. It provides a high-level interface for drawing attractive statistical graphics.\n"
   ],
   "metadata": {}
  },
  {
   "cell_type": "code",
   "source": [
    "import pandas as pd\n",
    "from sklearn.model_selection import train_test_split\n",
    "from transformers import BertTokenizer, BertForSequenceClassification, AdamW\n",
    "import torch\n",
    "from torch.utils.data import TensorDataset, DataLoader, RandomSampler, SequentialSampler\n",
    "from sklearn.metrics import accuracy_score, classification_report, confusion_matrix\n",
    "import numpy as np\n",
    "import matplotlib.pyplot as plt\n",
    "import seaborn as sns\n",
    "\n",
    "from src.preprocess import preprocess_dataset"
   ],
   "metadata": {
    "_uuid": "8f2839f25d086af736a60e9eeb907d3b93b6e0e5",
    "_cell_guid": "b1076dfc-b9ad-4769-8c92-a6c4dae69d19",
    "execution": {
     "iopub.status.busy": "2024-02-17T15:06:13.988592Z",
     "iopub.execute_input": "2024-02-17T15:06:13.989006Z",
     "iopub.status.idle": "2024-02-17T15:06:13.995352Z",
     "shell.execute_reply.started": "2024-02-17T15:06:13.988977Z",
     "shell.execute_reply": "2024-02-17T15:06:13.994154Z"
    },
    "trusted": true,
    "ExecuteTime": {
     "start_time": "2024-02-20T02:14:01.098437Z",
     "end_time": "2024-02-20T02:14:03.097036Z"
    }
   },
   "execution_count": 1,
   "outputs": []
  },
  {
   "cell_type": "markdown",
   "source": [
    "## Additional Library Installation\n",
    "\n",
    "If the `hazm` library has not been installed, use pip:\n",
    "\n",
    "```bash\n",
    "!pip install hazm"
   ],
   "metadata": {}
  },
  {
   "cell_type": "markdown",
   "source": [
    "## Preprocessing Text Data\n",
    "\n",
    "In this block of code, we preprocess text data using the 'hazm' library. Here's a breakdown of the steps:\n",
    "\n",
    "1. **Importing Libraries**:\n",
    "   - `pandas as pd`: Imported for data manipulation.\n",
    "   - `word_tokenize, stopwords_list, Normalizer, Lemmatizer`: These are functions and classes from the 'hazm' library used for Persian text processing.\n",
    "\n",
    "2. **Loading the Dataset**:\n",
    "   - The dataset is loaded from a CSV file named \"persian_authors.csv\" using the `pd.read_csv()` function from pandas.\n",
    "\n",
    "3. **Text Normalization and Tokenization**:\n",
    "   - A normalizer is defined using `Normalizer()` to normalize the texts.\n",
    "   - The `preprocess_text()` function is defined to tokenize the text, remove stopwords, and normalize the texts using the defined normalizer.\n",
    "   - The function uses `word_tokenize()` to tokenize the text, `stopwords_list()` to remove stopwords, and the normalizer to normalize the text.\n",
    "\n",
    "4. **Limiting Text Length**:\n",
    "   - The `limit_df()` function is defined to limit the number of words in each text to a specified number (`n_word`). This function splits the text into words, keeps the first `n_word` words, and then joins them back into a single string.\n",
    "   - The `map()` function is used to apply the `limit_df()` function to each text in the dataset.\n",
    "\n",
    "5. **Shuffling the Dataset**:\n",
    "   - The dataset is shuffled using `sample(frac=1, random_state=42)` to ensure randomness in the data.\n",
    "\n",
    "6. **Displaying the Preprocessed Dataset**:\n",
    "   - The first few rows of the preprocessed dataset are printed using `print(df.head())`.\n"
   ],
   "metadata": {}
  },
  {
   "cell_type": "code",
   "source": [
    "# Load the dataset\n",
    "df = pd.read_csv(\"datasets/raw/persian_authors.csv\")\n",
    "\n",
    "df = preprocess_dataset(df, save_file=\"datasets/processed/persian_authors_processed.csv\")"
   ],
   "metadata": {
    "execution": {
     "iopub.status.busy": "2024-02-17T15:06:26.158251Z",
     "iopub.execute_input": "2024-02-17T15:06:26.158570Z",
     "iopub.status.idle": "2024-02-17T15:07:45.824839Z",
     "shell.execute_reply.started": "2024-02-17T15:06:26.158542Z",
     "shell.execute_reply": "2024-02-17T15:07:45.823601Z"
    },
    "trusted": true,
    "ExecuteTime": {
     "start_time": "2024-02-20T02:14:05.867913Z",
     "end_time": "2024-02-20T02:14:51.912608Z"
    }
   },
   "execution_count": 2,
   "outputs": []
  },
  {
   "cell_type": "markdown",
   "source": [
    "## Visualizing Text Distribution per Author\n",
    "\n",
    "This block of code creates a countplot to visualize the distribution of texts per author. Here's an explanation of the visualization code:\n",
    "\n",
    "- `plt.figure(figsize=(10,6))`: This line creates a new figure with a specified size of 10 inches by 6 inches.\n",
    "\n",
    "- `sns.countplot(data=df, x='author')`: This line creates a countplot using Seaborn's `countplot()` function. It counts the number of occurrences of each unique value in the 'author' column of the DataFrame `df` and displays the counts as bars.\n",
    "\n",
    "- `plt.title('Number of Texts per Author')`: This line sets the title of the plot to 'Number of Texts per Author'.\n",
    "\n",
    "- `plt.xlabel('Author')`: This line sets the label for the x-axis to 'Author'.\n",
    "\n",
    "- `plt.ylabel('Count')`: This line sets the label for the y-axis to 'Count'.\n",
    "\n",
    "- `plt.xticks(rotation=45)`: This line rotates the x-axis labels by 45 degrees for better readability.\n",
    "\n",
    "- `plt.show()`: This line displays the plot.\n"
   ],
   "metadata": {}
  },
  {
   "cell_type": "code",
   "source": [
    "plt.figure(figsize=(10,6))\n",
    "sns.countplot(data=df, x='author')\n",
    "plt.title('Number of Texts per Author')\n",
    "plt.xlabel('Author')\n",
    "plt.ylabel('Count')\n",
    "plt.xticks(rotation=45)\n",
    "plt.show()"
   ],
   "metadata": {
    "execution": {
     "iopub.status.busy": "2024-02-17T15:07:45.825983Z",
     "iopub.execute_input": "2024-02-17T15:07:45.826271Z",
     "iopub.status.idle": "2024-02-17T15:07:46.105835Z",
     "shell.execute_reply.started": "2024-02-17T15:07:45.826246Z",
     "shell.execute_reply": "2024-02-17T15:07:46.104919Z"
    },
    "trusted": true,
    "ExecuteTime": {
     "start_time": "2024-02-20T02:15:05.699769Z",
     "end_time": "2024-02-20T02:15:05.900535Z"
    }
   },
   "execution_count": 3,
   "outputs": [
    {
     "data": {
      "text/plain": "<Figure size 1000x600 with 1 Axes>",
      "image/png": "[encoded data removed]"
     },
     "metadata": {},
     "output_type": "display_data"
    }
   ]
  },
  {
   "cell_type": "markdown",
   "source": [
    "## Visualizing Word Count Distribution per Author\n",
    "\n",
    "In this block of code, we visualize the distribution of word counts per author using a histogram. Here's an explanation of the visualization code:\n",
    "\n",
    "- `df['word_count'] = df['text'].str.count(' ') + 1`: This line calculates the word count for each text in the 'text' column of the DataFrame `df` by counting the spaces and adding one. The result is stored in a new column named 'word_count'.\n",
    "\n",
    "- `sns.histplot(data=df, x='word_count', hue='author', kde=True)`: This line creates a histogram using Seaborn's `histplot()` function. It plots the distribution of word counts (`x='word_count'`) and uses the 'author' column to distinguish between different authors (`hue='author'`). The `kde=True` parameter adds a kernel density estimate to the plot.\n",
    "\n",
    "- `plt.show()`: This line displays the plot.\n"
   ],
   "metadata": {}
  },
  {
   "cell_type": "code",
   "source": [
    "#Count spaces plus one for number of words\n",
    "df['word_count'] = df['text'].str.count(' ') + 1\n",
    "\n",
    "sns.histplot(data=df, x='word_count', hue='author', kde=True)\n",
    "plt.show()"
   ],
   "metadata": {
    "execution": {
     "iopub.status.busy": "2024-02-17T15:07:46.108657Z",
     "iopub.execute_input": "2024-02-17T15:07:46.109019Z",
     "iopub.status.idle": "2024-02-17T15:07:47.152784Z",
     "shell.execute_reply.started": "2024-02-17T15:07:46.108978Z",
     "shell.execute_reply": "2024-02-17T15:07:47.151845Z"
    },
    "trusted": true,
    "ExecuteTime": {
     "start_time": "2024-02-20T02:15:31.331790Z",
     "end_time": "2024-02-20T02:15:32.460973Z"
    }
   },
   "execution_count": 4,
   "outputs": [
    {
     "data": {
      "text/plain": "<Figure size 640x480 with 1 Axes>",
      "image/png": "[encoded data removed]"
     },
     "metadata": {},
     "output_type": "display_data"
    }
   ]
  },
  {
   "cell_type": "markdown",
   "source": [
    "## Determining the Number of Unique Labels\n",
    "\n",
    "In this block of code, the number of unique labels (authors) in the dataset is determined. Here's an explanation:\n",
    "\n",
    "- `num_labels=len(df['author'].unique())`: This line calculates the number of unique labels (authors) in the 'author' column of the DataFrame `df`. It uses the `unique()` function to extract unique values and then calculates the length of the resulting array, which represents the number of unique authors in the dataset.\n"
   ],
   "metadata": {}
  },
  {
   "cell_type": "code",
   "source": [
    "num_labels=len(df['author'].unique())"
   ],
   "metadata": {
    "execution": {
     "iopub.status.busy": "2024-02-17T15:07:47.153958Z",
     "iopub.execute_input": "2024-02-17T15:07:47.154249Z",
     "iopub.status.idle": "2024-02-17T15:07:47.159187Z",
     "shell.execute_reply.started": "2024-02-17T15:07:47.154223Z",
     "shell.execute_reply": "2024-02-17T15:07:47.158024Z"
    },
    "trusted": true
   },
   "execution_count": 34,
   "outputs": []
  },
  {
   "cell_type": "markdown",
   "source": [
    "## Importing Classification Models\n",
    "\n",
    "In this block of code, classification models are imported from the scikit-learn library. Here's an explanation of each imported model:\n",
    "\n",
    "- `LogisticRegression`: This class implements logistic regression, which is a linear model for binary and multiclass classification.\n",
    "- `RandomForestClassifier`: This class implements a random forest classifier, which is an ensemble learning method that fits a number of decision tree classifiers on various sub-samples of the dataset and uses averaging to improve the predictive accuracy and control over-fitting.\n",
    "- `SVC`: This class implements a support vector classifier (SVC), which is a type of support vector machine (SVM) algorithm that supports linear and non-linear classification.\n",
    "\n",
    "These models can be used for classification tasks based on the specific requirements and characteristics of the dataset.\n"
   ],
   "metadata": {}
  },
  {
   "cell_type": "code",
   "source": [
    "from sklearn.linear_model import LogisticRegression\n",
    "from sklearn.ensemble import RandomForestClassifier\n",
    "from sklearn.svm import SVC\n"
   ],
   "metadata": {
    "execution": {
     "iopub.status.busy": "2024-02-17T15:07:47.160385Z",
     "iopub.execute_input": "2024-02-17T15:07:47.160715Z",
     "iopub.status.idle": "2024-02-17T15:07:47.169656Z",
     "shell.execute_reply.started": "2024-02-17T15:07:47.160691Z",
     "shell.execute_reply": "2024-02-17T15:07:47.168775Z"
    },
    "trusted": true
   },
   "execution_count": 35,
   "outputs": []
  },
  {
   "cell_type": "markdown",
   "source": [
    "## Creating Label Dictionary\n",
    "\n",
    "In this block of code, a label dictionary is created to map author names to numerical indices. Here's an explanation:\n",
    "\n",
    "- `label_dict = {author: idx for idx, author in enumerate(df['author'].unique())}`: This line creates a dictionary comprehension to iterate over unique author names extracted from the 'author' column of the DataFrame `df`. For each author name, it assigns a numerical index starting from 0 using the `enumerate()` function. The resulting dictionary `label_dict` maps each author name to its corresponding numerical index.\n",
    "\n",
    "This label dictionary is typically used for encoding categorical labels into numerical format, which is required by many machine learning algorithms.\n"
   ],
   "metadata": {}
  },
  {
   "cell_type": "code",
   "source": [
    "label_dict = {author: idx for idx, author in enumerate(df['author'].unique())}"
   ],
   "metadata": {
    "execution": {
     "iopub.status.busy": "2024-02-17T15:07:47.170782Z",
     "iopub.execute_input": "2024-02-17T15:07:47.171124Z",
     "iopub.status.idle": "2024-02-17T15:07:47.180135Z",
     "shell.execute_reply.started": "2024-02-17T15:07:47.171095Z",
     "shell.execute_reply": "2024-02-17T15:07:47.179256Z"
    },
    "trusted": true
   },
   "execution_count": 36,
   "outputs": []
  },
  {
   "cell_type": "markdown",
   "source": [
    "## Encoding Labels and Splitting Dataset\n",
    "\n",
    "In this block of code, labels are encoded using scikit-learn's `LabelEncoder` and the dataset is split into training, validation, and test sets. Here's an explanation:\n",
    "\n",
    "- `label_encoder = LabelEncoder()`: This line creates an instance of the `LabelEncoder` class, which is used to encode categorical labels into numerical format.\n",
    "\n",
    "- `df['author_encoded'] = label_encoder.fit_transform(df['author'])`: This line encodes the 'author' column of the DataFrame `df` into numerical labels using the `fit_transform()` method of the `LabelEncoder`. The encoded labels are stored in a new column named 'author_encoded' in the DataFrame.\n",
    "\n",
    "- `train_texts, test_texts, train_labels, test_labels = train_test_split(df['text'], df['author_encoded'], test_size=0.2, random_state=42)`: This line splits the dataset into training and test sets using the `train_test_split()` function from scikit-learn. It splits the text data ('text' column) and the encoded labels ('author_encoded' column) into training and test sets, with 80% of the data used for training and 20% for testing. The `random_state=42` parameter ensures reproducibility of the split.\n",
    "\n",
    "- `train_texts, val_texts, train_labels, val_labels = train_test_split(train_texts, train_labels, test_size=0.1, random_state=42)`: This line further splits the training data (obtained from the previous split) into training and validation sets. It uses 90% of the training data for training and 10% for validation. Again, `random_state=42` is used for reproducibility.\n"
   ],
   "metadata": {}
  },
  {
   "cell_type": "code",
   "source": [
    "from sklearn.preprocessing import LabelEncoder\n",
    "label_encoder = LabelEncoder()\n",
    "df['author_encoded'] = label_encoder.fit_transform(df['author'])\n",
    "\n",
    "# Split dataset into train, validation, and test sets\n",
    "train_texts, test_texts, train_labels, test_labels = train_test_split(df['text'], df['author_encoded'], test_size=0.2, random_state=42)\n",
    "train_texts, val_texts, train_labels, val_labels = train_test_split(train_texts, train_labels, test_size=0.1, random_state=42)"
   ],
   "metadata": {
    "execution": {
     "iopub.status.busy": "2024-02-17T15:07:47.181714Z",
     "iopub.execute_input": "2024-02-17T15:07:47.181990Z",
     "iopub.status.idle": "2024-02-17T15:07:47.194597Z",
     "shell.execute_reply.started": "2024-02-17T15:07:47.181965Z",
     "shell.execute_reply": "2024-02-17T15:07:47.193604Z"
    },
    "trusted": true
   },
   "execution_count": 37,
   "outputs": []
  },
  {
   "cell_type": "markdown",
   "source": [
    "## TF-IDF Vectorization and Logistic Regression Classification\n",
    "\n",
    "In this block of code, TF-IDF vectorization and logistic regression classification are applied to the dataset. Here's an explanation of each step:\n",
    "\n",
    "- **TF-IDF Vectorization**:\n",
    "  - `tfidf_vectorizer = TfidfVectorizer(max_features=10000)`: This line initializes a TF-IDF vectorizer with a maximum of 10,000 features. TF-IDF (Term Frequency-Inverse Document Frequency) is a numerical statistic that reflects the importance of a word in a document relative to a collection of documents.\n",
    "  - `X_train_tfidf = tfidf_vectorizer.fit_transform(train_texts)`: This line fits and transforms the training texts (`train_texts`) into TF-IDF features using the `fit_transform()` method of the TF-IDF vectorizer. \n",
    "  - `X_val_tfidf = tfidf_vectorizer.transform(val_texts)`: This line transforms the validation texts (`val_texts`) into TF-IDF features using the `transform()` method of the TF-IDF vectorizer, based on the vocabulary learned from the training data.\n",
    "  - `X_test_tfidf = tfidf_vectorizer.transform(test_texts)`: This line transforms the test texts (`test_texts`) into TF-IDF features using the `transform()` method of the TF-IDF vectorizer, based on the same vocabulary learned from the training data.\n",
    "\n",
    "- **Logistic Regression Classification**:\n",
    "  - `lr_classifier = LogisticRegression(max_iter=1000)`: This line initializes a logistic regression classifier with a maximum of 1000 iterations.\n",
    "  - `lr_classifier.fit(X_train_tfidf, train_labels)`: This line trains the logistic regression classifier on the TF-IDF features of the training data (`X_train_tfidf`) and their corresponding labels (`train_labels`).\n",
    "\n",
    "- **Validation and Test Evaluation**:\n",
    "  - Validation Set:\n",
    "    - `val_predictions = lr_classifier.predict(X_val_tfidf)`: This line makes predictions on the validation set (`X_val_tfidf`) using the trained logistic regression classifier.\n",
    "    - `val_accuracy = accuracy_score(val_labels, val_predictions)`: This line calculates the accuracy of the validation predictions compared to the actual validation labels.\n",
    "    - `print(\"Validation Accuracy:\", val_accuracy)`: This line prints the validation accuracy.\n",
    "    - `print(\"Classification Report:\")`: This line prints the classification report, which includes precision, recall, F1-score, and support for each class.\n",
    "    - `print(classification_report(val_labels, val_predictions))`: This line prints the classification report for the validation set.\n",
    "  - Test Set:\n",
    "    - `test_predictions = lr_classifier.predict(X_test_tfidf)`: This line makes predictions on the test set (`X_test_tfidf`) using the trained logistic regression classifier.\n",
    "    - `test_accuracy = accuracy_score(test_labels, test_predictions)`: This line calculates the accuracy of the test predictions compared to the actual test labels.\n",
    "    - `print(\"Test Accuracy:\", test_accuracy)`: This line prints the test accuracy.\n",
    "    - `print(\"Classification Report:\")`: This line prints the classification report for the test set.\n",
    "    - `print(classification_report(test_labels, test_predictions))`: This line prints the classification report for the test set.\n",
    "\n",
    "This process involves transforming text data into numerical features using TF-IDF vectorization and training a logistic regression classifier to predict the authors of the texts. The model is then evaluated on both the validation and test sets using accuracy and classification reports. Adjustments can be made to the TF-IDF vectorizer parameters and model hyperparameters for further optimization.\n"
   ],
   "metadata": {}
  },
  {
   "cell_type": "code",
   "source": [
    "from sklearn.feature_extraction.text import TfidfVectorizer\n",
    "from sklearn.linear_model import LogisticRegression\n",
    "from sklearn.metrics import accuracy_score, classification_report\n",
    "\n",
    "# Initialize TF-IDF vectorizer\n",
    "tfidf_vectorizer = TfidfVectorizer(max_features=10000)  # You can adjust max_features as needed\n",
    "\n",
    "# Fit and transform on train texts\n",
    "X_train_tfidf = tfidf_vectorizer.fit_transform(train_texts)\n",
    "X_val_tfidf = tfidf_vectorizer.transform(val_texts)\n",
    "X_test_tfidf = tfidf_vectorizer.transform(test_texts)\n",
    "\n",
    "# Initialize and train Logistic Regression model\n",
    "lr_classifier = LogisticRegression(max_iter=1000)\n",
    "lr_classifier.fit(X_train_tfidf, train_labels)\n",
    "\n",
    "# Predictions on validation set\n",
    "val_predictions = lr_classifier.predict(X_val_tfidf)\n",
    "\n",
    "# Evaluate model\n",
    "val_accuracy = accuracy_score(val_labels, val_predictions)\n",
    "print(\"Validation Accuracy:\", val_accuracy)\n",
    "print(\"Classification Report:\")\n",
    "print(classification_report(val_labels, val_predictions))\n",
    "\n",
    "# Predictions on test set\n",
    "test_predictions = lr_classifier.predict(X_test_tfidf)\n",
    "\n",
    "# Evaluate model on test set\n",
    "test_accuracy = accuracy_score(test_labels, test_predictions)\n",
    "print(\"Test Accuracy:\", test_accuracy)\n",
    "print(\"Classification Report:\")\n",
    "print(classification_report(test_labels, test_predictions))\n"
   ],
   "metadata": {
    "execution": {
     "iopub.status.busy": "2024-02-17T15:07:47.195886Z",
     "iopub.execute_input": "2024-02-17T15:07:47.196178Z",
     "iopub.status.idle": "2024-02-17T15:07:48.058234Z",
     "shell.execute_reply.started": "2024-02-17T15:07:47.196155Z",
     "shell.execute_reply": "2024-02-17T15:07:48.057207Z"
    },
    "trusted": true
   },
   "execution_count": 38,
   "outputs": [
    {
     "name": "stdout",
     "text": "Validation Accuracy: 1.0\nClassification Report:\n              precision    recall  f1-score   support\n\n           0       1.00      1.00      1.00         3\n           1       1.00      1.00      1.00         2\n           2       1.00      1.00      1.00         1\n           3       1.00      1.00      1.00         6\n           4       1.00      1.00      1.00         1\n           5       1.00      1.00      1.00         1\n           6       1.00      1.00      1.00         5\n           7       1.00      1.00      1.00         3\n           8       1.00      1.00      1.00         1\n           9       1.00      1.00      1.00         5\n          10       1.00      1.00      1.00         1\n          11       1.00      1.00      1.00         2\n          12       1.00      1.00      1.00         1\n\n    accuracy                           1.00        32\n   macro avg       1.00      1.00      1.00        32\nweighted avg       1.00      1.00      1.00        32\n\nTest Accuracy: 0.975\nClassification Report:\n              precision    recall  f1-score   support\n\n           0       1.00      1.00      1.00         5\n           1       1.00      1.00      1.00         6\n           2       0.86      1.00      0.92         6\n           3       1.00      1.00      1.00         6\n           4       1.00      1.00      1.00         5\n           5       1.00      1.00      1.00         9\n           6       1.00      1.00      1.00         3\n           7       1.00      1.00      1.00         3\n           8       1.00      0.89      0.94         9\n           9       1.00      0.88      0.93         8\n          10       1.00      1.00      1.00         6\n          11       1.00      1.00      1.00         7\n          12       0.88      1.00      0.93         7\n\n    accuracy                           0.97        80\n   macro avg       0.98      0.98      0.98        80\nweighted avg       0.98      0.97      0.98        80\n\n",
     "output_type": "stream"
    }
   ]
  },
  {
   "cell_type": "markdown",
   "source": [
    "## Preprocessing and Predicting New Text\n",
    "\n",
    "In this block of code, new text is preprocessed and predicted using the trained logistic regression classifier. Here's an explanation of each step:\n",
    "\n",
    "- **Preprocessing New Text**:\n",
    "  - Each text in the test set (`test_texts`) is preprocessed using the `preprocess_text()` function to normalize, tokenize, and remove stopwords.\n",
    "\n",
    "- **Transforming Text into Features**:\n",
    "  - The preprocessed text is transformed into features using the TF-IDF vectorizer (`tfidf_vectorizer.transform()`).\n",
    "\n",
    "- **Predicting Label of New Text**:\n",
    "  - The logistic regression classifier (`lr_classifier`) predicts the label of the new text using `predict()`.\n",
    "\n",
    "- **Mapping Predicted Label to Author Name**:\n",
    "  - The predicted label is mapped back to the corresponding author name using the `label_dict` dictionary.\n",
    "  - The original author label and predicted author label are retrieved from the `test_labels` and `predicted_label`, respectively.\n",
    "\n",
    "- **Accuracy Calculation**:\n",
    "  - A counter (`lr_cnt`) is used to count the number of correct predictions.\n",
    "  - The accuracy is calculated as the ratio of correct predictions to the total number of predictions.\n",
    "\n",
    "- **Printing Predictions**:\n",
    "  - The predicted author name, original author name, predicted label, and original label are printed for each prediction.\n",
    "\n",
    "- **Printing Accuracy**:\n",
    "  - The accuracy of the logistic regression classifier on the test set is printed.\n",
    "\n",
    "This process demonstrates how to preprocess new text, transform it into features using TF-IDF vectorization, predict the author label using the logistic regression classifier, and calculate accuracy.\n"
   ],
   "metadata": {}
  },
  {
   "cell_type": "code",
   "source": [
    "from src.preprocess import preprocess_text\n",
    "\n",
    "# Preprocess the new text\n",
    "lr_cnt =0\n",
    "for i in range(len(test_texts)):\n",
    "    cleaned_new_text = preprocess_text(test_texts.iloc[i])\n",
    "\n",
    "    # Transform the preprocessed text into features using TF-IDF vectorizer\n",
    "    new_text_tfidf = tfidf_vectorizer.transform([cleaned_new_text])\n",
    "\n",
    "    # Predict label of the new text\n",
    "    predicted_label = lr_classifier.predict(new_text_tfidf)\n",
    "\n",
    "    # Map predicted label back to author name\n",
    "    predicted_author = [author for author, idx in label_dict.items() if idx == predicted_label.item()][0]\n",
    "    original_author = [author for author, idx in label_dict.items() if idx == test_labels.iloc[i]][0]\n",
    "    if test_labels.iloc[i]== predicted_label.item():\n",
    "        lr_cnt+=1\n",
    "    print(\"Predicted Author:\", predicted_author , \"original label:\",original_author )\n",
    "    print(\"Predicted Author:\", predicted_label.item() , \"original label:\",test_labels.iloc[i] )\n",
    "print(\"accuracy : \" , lr_cnt/len(test_texts))"
   ],
   "metadata": {
    "execution": {
     "iopub.status.busy": "2024-02-17T15:07:48.062044Z",
     "iopub.execute_input": "2024-02-17T15:07:48.062790Z",
     "iopub.status.idle": "2024-02-17T15:07:57.326812Z",
     "shell.execute_reply.started": "2024-02-17T15:07:48.062755Z",
     "shell.execute_reply": "2024-02-17T15:07:57.325833Z"
    },
    "trusted": true
   },
   "execution_count": 39,
   "outputs": [
    {
     "name": "stdout",
     "text": "Predicted Author: saadi original label: saadi\nPredicted Author: 10 original label: 10\nPredicted Author: ferdousi original label: ferdousi\nPredicted Author: 4 original label: 4\nPredicted Author: moulavi original label: moulavi\nPredicted Author: 8 original label: 8\nPredicted Author: jami original label: jami\nPredicted Author: 11 original label: 11\nPredicted Author: jami original label: jami\nPredicted Author: 11 original label: 11\nPredicted Author: saadi original label: saadi\nPredicted Author: 10 original label: 10\nPredicted Author: saadi original label: saadi\nPredicted Author: 10 original label: 10\nPredicted Author: ahamad seif original label: ahamad seif\nPredicted Author: 0 original label: 0\nPredicted Author: saadi original label: saadi\nPredicted Author: 10 original label: 10\nPredicted Author: rahi original label: rahi\nPredicted Author: 2 original label: 2\nPredicted Author: saeb original label: saeb\nPredicted Author: 12 original label: 12\nPredicted Author: moulavi original label: moulavi\nPredicted Author: 8 original label: 8\nPredicted Author: shahriar original label: shahriar\nPredicted Author: 7 original label: 7\nPredicted Author: seyed razi original label: seyed razi\nPredicted Author: 6 original label: 6\nPredicted Author: ferdousi original label: ferdousi\nPredicted Author: 4 original label: 4\nPredicted Author: behrooz farhadian original label: behrooz farhadian\nPredicted Author: 3 original label: 3\nPredicted Author: nezami original label: nezami\nPredicted Author: 9 original label: 9\nPredicted Author: ferdousi original label: ferdousi\nPredicted Author: 4 original label: 4\nPredicted Author: jami original label: jami\nPredicted Author: 11 original label: 11\nPredicted Author: rahi original label: rahi\nPredicted Author: 2 original label: 2\nPredicted Author: jooya original label: jooya\nPredicted Author: 5 original label: 5\nPredicted Author: moulavi original label: moulavi\nPredicted Author: 8 original label: 8\nPredicted Author: eraghi original label: eraghi\nPredicted Author: 1 original label: 1\nPredicted Author: rahi original label: rahi\nPredicted Author: 2 original label: 2\nPredicted Author: ahamad seif original label: ahamad seif\nPredicted Author: 0 original label: 0\nPredicted Author: eraghi original label: eraghi\nPredicted Author: 1 original label: 1\nPredicted Author: shahriar original label: shahriar\nPredicted Author: 7 original label: 7\nPredicted Author: jami original label: jami\nPredicted Author: 11 original label: 11\nPredicted Author: moulavi original label: moulavi\nPredicted Author: 8 original label: 8\nPredicted Author: saeb original label: saeb\nPredicted Author: 12 original label: 12\nPredicted Author: behrooz farhadian original label: behrooz farhadian\nPredicted Author: 3 original label: 3\nPredicted Author: ahamad seif original label: ahamad seif\nPredicted Author: 0 original label: 0\nPredicted Author: nezami original label: nezami\nPredicted Author: 9 original label: 9\nPredicted Author: ferdousi original label: ferdousi\nPredicted Author: 4 original label: 4\nPredicted Author: rahi original label: rahi\nPredicted Author: 2 original label: 2\nPredicted Author: behrooz farhadian original label: behrooz farhadian\nPredicted Author: 3 original label: 3\nPredicted Author: jooya original label: jooya\nPredicted Author: 5 original label: 5\nPredicted Author: seyed razi original label: seyed razi\nPredicted Author: 6 original label: 6\nPredicted Author: jami original label: jami\nPredicted Author: 11 original label: 11\nPredicted Author: saeb original label: saeb\nPredicted Author: 12 original label: 12\nPredicted Author: behrooz farhadian original label: behrooz farhadian\nPredicted Author: 3 original label: 3\nPredicted Author: moulavi original label: moulavi\nPredicted Author: 8 original label: 8\nPredicted Author: jami original label: jami\nPredicted Author: 11 original label: 11\nPredicted Author: jooya original label: jooya\nPredicted Author: 5 original label: 5\nPredicted Author: jooya original label: jooya\nPredicted Author: 5 original label: 5\nPredicted Author: saeb original label: saeb\nPredicted Author: 12 original label: 12\nPredicted Author: jami original label: jami\nPredicted Author: 11 original label: 11\nPredicted Author: saeb original label: saeb\nPredicted Author: 12 original label: 12\nPredicted Author: jooya original label: jooya\nPredicted Author: 5 original label: 5\nPredicted Author: eraghi original label: eraghi\nPredicted Author: 1 original label: 1\nPredicted Author: saeb original label: saeb\nPredicted Author: 12 original label: 12\nPredicted Author: rahi original label: rahi\nPredicted Author: 2 original label: 2\nPredicted Author: moulavi original label: moulavi\nPredicted Author: 8 original label: 8\nPredicted Author: rahi original label: rahi\nPredicted Author: 2 original label: 2\nPredicted Author: nezami original label: nezami\nPredicted Author: 9 original label: 9\nPredicted Author: saeb original label: saeb\nPredicted Author: 12 original label: 12\nPredicted Author: rahi original label: nezami\nPredicted Author: 2 original label: 9\nPredicted Author: ahamad seif original label: ahamad seif\nPredicted Author: 0 original label: 0\nPredicted Author: jooya original label: jooya\nPredicted Author: 5 original label: 5\nPredicted Author: nezami original label: nezami\nPredicted Author: 9 original label: 9\nPredicted Author: seyed razi original label: seyed razi\nPredicted Author: 6 original label: 6\nPredicted Author: eraghi original label: eraghi\nPredicted Author: 1 original label: 1\nPredicted Author: shahriar original label: shahriar\nPredicted Author: 7 original label: 7\nPredicted Author: saadi original label: saadi\nPredicted Author: 10 original label: 10\nPredicted Author: eraghi original label: eraghi\nPredicted Author: 1 original label: 1\nPredicted Author: jooya original label: jooya\nPredicted Author: 5 original label: 5\nPredicted Author: ferdousi original label: ferdousi\nPredicted Author: 4 original label: 4\nPredicted Author: saadi original label: saadi\nPredicted Author: 10 original label: 10\nPredicted Author: nezami original label: nezami\nPredicted Author: 9 original label: 9\nPredicted Author: moulavi original label: moulavi\nPredicted Author: 8 original label: 8\nPredicted Author: nezami original label: nezami\nPredicted Author: 9 original label: 9\nPredicted Author: moulavi original label: moulavi\nPredicted Author: 8 original label: 8\nPredicted Author: behrooz farhadian original label: behrooz farhadian\nPredicted Author: 3 original label: 3\nPredicted Author: jooya original label: jooya\nPredicted Author: 5 original label: 5\nPredicted Author: behrooz farhadian original label: behrooz farhadian\nPredicted Author: 3 original label: 3\nPredicted Author: nezami original label: nezami\nPredicted Author: 9 original label: 9\nPredicted Author: jooya original label: jooya\nPredicted Author: 5 original label: 5\nPredicted Author: saeb original label: moulavi\nPredicted Author: 12 original label: 8\nPredicted Author: eraghi original label: eraghi\nPredicted Author: 1 original label: 1\nPredicted Author: ahamad seif original label: ahamad seif\nPredicted Author: 0 original label: 0\naccuracy :  0.975\n",
     "output_type": "stream"
    }
   ]
  },
  {
   "cell_type": "markdown",
   "source": [
    "## Random Forest Classification\n",
    "\n",
    "In this block of code, a Random Forest Classifier model is initialized, trained, and evaluated on the dataset. Here's an explanation of each step:\n",
    "\n",
    "- **Initializing and Training Random Forest Classifier**:\n",
    "  - `rf_classifier = RandomForestClassifier(n_estimators=100, random_state=42)`: This line initializes a Random Forest Classifier with 100 decision trees (`n_estimators=100`) and a random state of 42 for reproducibility.\n",
    "  - `rf_classifier.fit(X_train_tfidf, train_labels)`: This line trains the Random Forest Classifier on the TF-IDF features of the training data (`X_train_tfidf`) and their corresponding labels (`train_labels`).\n",
    "\n",
    "- **Validation Evaluation**:\n",
    "  - `val_predictions_rf = rf_classifier.predict(X_val_tfidf)`: This line makes predictions on the validation set (`X_val_tfidf`) using the trained Random Forest Classifier.\n",
    "  - `val_accuracy_rf = accuracy_score(val_labels, val_predictions_rf)`: This line calculates the accuracy of the Random Forest Classifier on the validation set compared to the actual validation labels.\n",
    "  - `print(\"Random Forest Validation Accuracy:\", val_accuracy_rf)`: This line prints the validation accuracy.\n",
    "  - `print(\"Random Forest Classification Report:\")`: This line prints the classification report, which includes precision, recall, F1-score, and support for each class, for the Random Forest Classifier on the validation set.\n",
    "  - `print(classification_report(val_labels, val_predictions_rf))`: This line prints the classification report for the validation set.\n",
    "\n",
    "- **Test Evaluation**:\n",
    "  - `test_predictions_rf = rf_classifier.predict(X_test_tfidf)`: This line makes predictions on the test set (`X_test_tfidf`) using the trained Random Forest Classifier.\n",
    "  - `test_accuracy_rf = accuracy_score(test_labels, test_predictions_rf)`: This line calculates the accuracy of the Random Forest Classifier on the test set compared to the actual test labels.\n",
    "  - `print(\"Random Forest Test Accuracy:\", test_accuracy_rf)`: This line prints the test accuracy.\n",
    "  - `print(\"Random Forest Classification Report:\")`: This line prints the classification report for the test set, including precision, recall, F1-score, and support for each class, for the Random Forest Classifier.\n",
    "  - `print(classification_report(test_labels, test_predictions_rf))`: This line prints the classification report for the test set.\n",
    "\n",
    "This process involves training a Random Forest Classifier on TF-IDF features and evaluating its performance on the validation and test sets using accuracy and classification reports.\n"
   ],
   "metadata": {}
  },
  {
   "cell_type": "code",
   "source": [
    "from sklearn.ensemble import RandomForestClassifier\n",
    "\n",
    "# Initialize and train Random Forest Classifier model\n",
    "rf_classifier = RandomForestClassifier(n_estimators=100, random_state=42)\n",
    "rf_classifier.fit(X_train_tfidf, train_labels)\n",
    "\n",
    "# Predictions on validation set\n",
    "val_predictions_rf = rf_classifier.predict(X_val_tfidf)\n",
    "\n",
    "# Evaluate model\n",
    "val_accuracy_rf = accuracy_score(val_labels, val_predictions_rf)\n",
    "print(\"Random Forest Validation Accuracy:\", val_accuracy_rf)\n",
    "print(\"Random Forest Classification Report:\")\n",
    "print(classification_report(val_labels, val_predictions_rf))\n",
    "\n",
    "# Predictions on test set\n",
    "test_predictions_rf = rf_classifier.predict(X_test_tfidf)\n",
    "\n",
    "# Evaluate model on test set\n",
    "test_accuracy_rf = accuracy_score(test_labels, test_predictions_rf)\n",
    "print(\"Random Forest Test Accuracy:\", test_accuracy_rf)\n",
    "print(\"Random Forest Classification Report:\")\n",
    "print(classification_report(test_labels, test_predictions_rf))\n"
   ],
   "metadata": {
    "execution": {
     "iopub.status.busy": "2024-02-17T15:07:57.328000Z",
     "iopub.execute_input": "2024-02-17T15:07:57.328354Z",
     "iopub.status.idle": "2024-02-17T15:07:57.801146Z",
     "shell.execute_reply.started": "2024-02-17T15:07:57.328319Z",
     "shell.execute_reply": "2024-02-17T15:07:57.800181Z"
    },
    "trusted": true
   },
   "execution_count": 40,
   "outputs": [
    {
     "name": "stdout",
     "text": "Random Forest Validation Accuracy: 0.96875\nRandom Forest Classification Report:\n              precision    recall  f1-score   support\n\n           0       1.00      1.00      1.00         3\n           1       1.00      1.00      1.00         2\n           2       1.00      1.00      1.00         1\n           3       1.00      0.83      0.91         6\n           4       1.00      1.00      1.00         1\n           5       1.00      1.00      1.00         1\n           6       1.00      1.00      1.00         5\n           7       0.75      1.00      0.86         3\n           8       1.00      1.00      1.00         1\n           9       1.00      1.00      1.00         5\n          10       1.00      1.00      1.00         1\n          11       1.00      1.00      1.00         2\n          12       1.00      1.00      1.00         1\n\n    accuracy                           0.97        32\n   macro avg       0.98      0.99      0.98        32\nweighted avg       0.98      0.97      0.97        32\n\nRandom Forest Test Accuracy: 0.9875\nRandom Forest Classification Report:\n              precision    recall  f1-score   support\n\n           0       1.00      1.00      1.00         5\n           1       1.00      1.00      1.00         6\n           2       0.86      1.00      0.92         6\n           3       1.00      1.00      1.00         6\n           4       1.00      1.00      1.00         5\n           5       1.00      1.00      1.00         9\n           6       1.00      1.00      1.00         3\n           7       1.00      1.00      1.00         3\n           8       1.00      0.89      0.94         9\n           9       1.00      1.00      1.00         8\n          10       1.00      1.00      1.00         6\n          11       1.00      1.00      1.00         7\n          12       1.00      1.00      1.00         7\n\n    accuracy                           0.99        80\n   macro avg       0.99      0.99      0.99        80\nweighted avg       0.99      0.99      0.99        80\n\n",
     "output_type": "stream"
    }
   ]
  },
  {
   "cell_type": "markdown",
   "source": [
    "## Preprocessing and Predicting New Text with Random Forest Classifier\n",
    "\n",
    "In this block of code, new text is preprocessed and predicted using the trained Random Forest Classifier. Here's an explanation of each step:\n",
    "\n",
    "- **Preprocessing New Text**:\n",
    "  - Each text in the test set (`test_texts`) is preprocessed using the `preprocess_text()` function to normalize, tokenize, and remove stopwords.\n",
    "\n",
    "- **Transforming Text into Features**:\n",
    "  - The preprocessed text is transformed into features using the TF-IDF vectorizer (`tfidf_vectorizer.transform()`).\n",
    "\n",
    "- **Predicting Label of New Text**:\n",
    "  - The Random Forest Classifier (`rf_classifier`) predicts the label of the new text using `predict()`.\n",
    "\n",
    "- **Mapping Predicted Label to Author Name**:\n",
    "  - The predicted label is mapped back to the corresponding author name using the `label_dict` dictionary.\n",
    "  - The original author label and predicted author label are retrieved from the `test_labels` and `predicted_label`, respectively.\n",
    "\n",
    "- **Accuracy Calculation**:\n",
    "  - A counter (`rf_cnt`) is used to count the number of correct predictions.\n",
    "  - The accuracy is calculated as the ratio of correct predictions to the total number of predictions.\n",
    "\n",
    "- **Printing Predictions**:\n",
    "  - The predicted author name, original author name, predicted label, and original label are printed for each prediction.\n",
    "\n",
    "- **Printing Accuracy**:\n",
    "  - The accuracy of the Random Forest Classifier on the test set is printed.\n",
    "\n",
    "This process demonstrates how to preprocess new text, transform it into features using TF-IDF vectorization, predict the author label using the Random Forest Classifier, and calculate accuracy.\n"
   ],
   "metadata": {}
  },
  {
   "cell_type": "code",
   "source": [
    "# Preprocess the new text\n",
    "rf_cnt = 0\n",
    "for i in range(len(test_texts)):\n",
    "    cleaned_new_text = preprocess_text(test_texts.iloc[i])\n",
    "\n",
    "    # Transform the preprocessed text into features using TF-IDF vectorizer\n",
    "    new_text_tfidf = tfidf_vectorizer.transform([cleaned_new_text])\n",
    "\n",
    "    # Predict label of the new text\n",
    "    predicted_label = rf_classifier.predict(new_text_tfidf)\n",
    "\n",
    "    # Map predicted label back to author name\n",
    "    predicted_author = [author for author, idx in label_dict.items() if idx == predicted_label.item()][0]\n",
    "    original_author = [author for author, idx in label_dict.items() if idx == test_labels.iloc[i]][0]\n",
    "    if test_labels.iloc[i]== predicted_label.item():\n",
    "        rf_cnt+=1\n",
    "    print(\"Predicted Author:\", predicted_author , \"original label:\",original_author )\n",
    "    print(\"Predicted Author:\", predicted_label.item() , \"original label:\",test_labels.iloc[i] )\n",
    "print(\"accuracy : \" , rf_cnt/len(test_texts))"
   ],
   "metadata": {
    "execution": {
     "iopub.status.busy": "2024-02-17T15:08:36.689467Z",
     "iopub.execute_input": "2024-02-17T15:08:36.689829Z",
     "iopub.status.idle": "2024-02-17T15:08:46.590755Z",
     "shell.execute_reply.started": "2024-02-17T15:08:36.689800Z",
     "shell.execute_reply": "2024-02-17T15:08:46.589734Z"
    },
    "trusted": true
   },
   "execution_count": 44,
   "outputs": [
    {
     "name": "stdout",
     "text": "Predicted Author: saadi original label: saadi\nPredicted Author: 10 original label: 10\nPredicted Author: ferdousi original label: ferdousi\nPredicted Author: 4 original label: 4\nPredicted Author: moulavi original label: moulavi\nPredicted Author: 8 original label: 8\nPredicted Author: jami original label: jami\nPredicted Author: 11 original label: 11\nPredicted Author: jami original label: jami\nPredicted Author: 11 original label: 11\nPredicted Author: saadi original label: saadi\nPredicted Author: 10 original label: 10\nPredicted Author: saadi original label: saadi\nPredicted Author: 10 original label: 10\nPredicted Author: ahamad seif original label: ahamad seif\nPredicted Author: 0 original label: 0\nPredicted Author: saadi original label: saadi\nPredicted Author: 10 original label: 10\nPredicted Author: rahi original label: rahi\nPredicted Author: 2 original label: 2\nPredicted Author: saeb original label: saeb\nPredicted Author: 12 original label: 12\nPredicted Author: moulavi original label: moulavi\nPredicted Author: 8 original label: 8\nPredicted Author: shahriar original label: shahriar\nPredicted Author: 7 original label: 7\nPredicted Author: seyed razi original label: seyed razi\nPredicted Author: 6 original label: 6\nPredicted Author: ferdousi original label: ferdousi\nPredicted Author: 4 original label: 4\nPredicted Author: behrooz farhadian original label: behrooz farhadian\nPredicted Author: 3 original label: 3\nPredicted Author: nezami original label: nezami\nPredicted Author: 9 original label: 9\nPredicted Author: ferdousi original label: ferdousi\nPredicted Author: 4 original label: 4\nPredicted Author: jami original label: jami\nPredicted Author: 11 original label: 11\nPredicted Author: rahi original label: rahi\nPredicted Author: 2 original label: 2\nPredicted Author: jooya original label: jooya\nPredicted Author: 5 original label: 5\nPredicted Author: moulavi original label: moulavi\nPredicted Author: 8 original label: 8\nPredicted Author: eraghi original label: eraghi\nPredicted Author: 1 original label: 1\nPredicted Author: rahi original label: rahi\nPredicted Author: 2 original label: 2\nPredicted Author: ahamad seif original label: ahamad seif\nPredicted Author: 0 original label: 0\nPredicted Author: eraghi original label: eraghi\nPredicted Author: 1 original label: 1\nPredicted Author: shahriar original label: shahriar\nPredicted Author: 7 original label: 7\nPredicted Author: jami original label: jami\nPredicted Author: 11 original label: 11\nPredicted Author: moulavi original label: moulavi\nPredicted Author: 8 original label: 8\nPredicted Author: saeb original label: saeb\nPredicted Author: 12 original label: 12\nPredicted Author: behrooz farhadian original label: behrooz farhadian\nPredicted Author: 3 original label: 3\nPredicted Author: ahamad seif original label: ahamad seif\nPredicted Author: 0 original label: 0\nPredicted Author: nezami original label: nezami\nPredicted Author: 9 original label: 9\nPredicted Author: ferdousi original label: ferdousi\nPredicted Author: 4 original label: 4\nPredicted Author: rahi original label: rahi\nPredicted Author: 2 original label: 2\nPredicted Author: behrooz farhadian original label: behrooz farhadian\nPredicted Author: 3 original label: 3\nPredicted Author: jooya original label: jooya\nPredicted Author: 5 original label: 5\nPredicted Author: seyed razi original label: seyed razi\nPredicted Author: 6 original label: 6\nPredicted Author: jami original label: jami\nPredicted Author: 11 original label: 11\nPredicted Author: saeb original label: saeb\nPredicted Author: 12 original label: 12\nPredicted Author: behrooz farhadian original label: behrooz farhadian\nPredicted Author: 3 original label: 3\nPredicted Author: moulavi original label: moulavi\nPredicted Author: 8 original label: 8\nPredicted Author: jami original label: jami\nPredicted Author: 11 original label: 11\nPredicted Author: jooya original label: jooya\nPredicted Author: 5 original label: 5\nPredicted Author: jooya original label: jooya\nPredicted Author: 5 original label: 5\nPredicted Author: saeb original label: saeb\nPredicted Author: 12 original label: 12\nPredicted Author: jami original label: jami\nPredicted Author: 11 original label: 11\nPredicted Author: saeb original label: saeb\nPredicted Author: 12 original label: 12\nPredicted Author: jooya original label: jooya\nPredicted Author: 5 original label: 5\nPredicted Author: eraghi original label: eraghi\nPredicted Author: 1 original label: 1\nPredicted Author: saeb original label: saeb\nPredicted Author: 12 original label: 12\nPredicted Author: rahi original label: rahi\nPredicted Author: 2 original label: 2\nPredicted Author: moulavi original label: moulavi\nPredicted Author: 8 original label: 8\nPredicted Author: rahi original label: rahi\nPredicted Author: 2 original label: 2\nPredicted Author: nezami original label: nezami\nPredicted Author: 9 original label: 9\nPredicted Author: saeb original label: saeb\nPredicted Author: 12 original label: 12\nPredicted Author: nezami original label: nezami\nPredicted Author: 9 original label: 9\nPredicted Author: ahamad seif original label: ahamad seif\nPredicted Author: 0 original label: 0\nPredicted Author: jooya original label: jooya\nPredicted Author: 5 original label: 5\nPredicted Author: nezami original label: nezami\nPredicted Author: 9 original label: 9\nPredicted Author: seyed razi original label: seyed razi\nPredicted Author: 6 original label: 6\nPredicted Author: eraghi original label: eraghi\nPredicted Author: 1 original label: 1\nPredicted Author: shahriar original label: shahriar\nPredicted Author: 7 original label: 7\nPredicted Author: saadi original label: saadi\nPredicted Author: 10 original label: 10\nPredicted Author: eraghi original label: eraghi\nPredicted Author: 1 original label: 1\nPredicted Author: jooya original label: jooya\nPredicted Author: 5 original label: 5\nPredicted Author: ferdousi original label: ferdousi\nPredicted Author: 4 original label: 4\nPredicted Author: saadi original label: saadi\nPredicted Author: 10 original label: 10\nPredicted Author: nezami original label: nezami\nPredicted Author: 9 original label: 9\nPredicted Author: moulavi original label: moulavi\nPredicted Author: 8 original label: 8\nPredicted Author: nezami original label: nezami\nPredicted Author: 9 original label: 9\nPredicted Author: moulavi original label: moulavi\nPredicted Author: 8 original label: 8\nPredicted Author: behrooz farhadian original label: behrooz farhadian\nPredicted Author: 3 original label: 3\nPredicted Author: jooya original label: jooya\nPredicted Author: 5 original label: 5\nPredicted Author: behrooz farhadian original label: behrooz farhadian\nPredicted Author: 3 original label: 3\nPredicted Author: nezami original label: nezami\nPredicted Author: 9 original label: 9\nPredicted Author: jooya original label: jooya\nPredicted Author: 5 original label: 5\nPredicted Author: rahi original label: moulavi\nPredicted Author: 2 original label: 8\nPredicted Author: eraghi original label: eraghi\nPredicted Author: 1 original label: 1\nPredicted Author: ahamad seif original label: ahamad seif\nPredicted Author: 0 original label: 0\naccuracy :  0.9875\n",
     "output_type": "stream"
    }
   ]
  },
  {
   "cell_type": "markdown",
   "source": [
    "## Support Vector Machine (SVM) Classification\n",
    "\n",
    "In this block of code, a Support Vector Machine (SVM) Classifier model is initialized, trained, and evaluated on the dataset. Here's an explanation of each step:\n",
    "\n",
    "- **Initializing and Training SVM Classifier**:\n",
    "  - `svm_classifier = SVC(kernel='linear', random_state=42)`: This line initializes an SVM Classifier with a linear kernel and a random state of 42 for reproducibility.\n",
    "  - `svm_classifier.fit(X_train_tfidf, train_labels)`: This line trains the SVM Classifier on the TF-IDF features of the training data (`X_train_tfidf`) and their corresponding labels (`train_labels`).\n",
    "\n",
    "- **Validation Evaluation**:\n",
    "  - `val_predictions_svm = svm_classifier.predict(X_val_tfidf)`: This line makes predictions on the validation set (`X_val_tfidf`) using the trained SVM Classifier.\n",
    "  - `val_accuracy_svm = accuracy_score(val_labels, val_predictions_svm)`: This line calculates the accuracy of the SVM Classifier on the validation set compared to the actual validation labels.\n",
    "  - `print(\"SVM Validation Accuracy:\", val_accuracy_svm)`: This line prints the validation accuracy.\n",
    "  - `print(\"SVM Classification Report:\")`: This line prints the classification report, which includes precision, recall, F1-score, and support for each class, for the SVM Classifier on the validation set.\n",
    "  - `print(classification_report(val_labels, val_predictions_svm))`: This line prints the classification report for the validation set.\n",
    "\n",
    "- **Test Evaluation**:\n",
    "  - `test_predictions_svm = svm_classifier.predict(X_test_tfidf)`: This line makes predictions on the test set (`X_test_tfidf`) using the trained SVM Classifier.\n",
    "  - `test_accuracy_svm = accuracy_score(test_labels, test_predictions_svm)`: This line calculates the accuracy of the SVM Classifier on the test set compared to the actual test labels.\n",
    "  - `print(\"SVM Test Accuracy:\", test_accuracy_svm)`: This line prints the test accuracy.\n",
    "  - `print(\"SVM Classification Report:\")`: This line prints the classification report for the test set, including precision, recall, F1-score, and support for each class, for the SVM Classifier.\n",
    "  - `print(classification_report(test_labels, test_predictions_svm))`: This line prints the classification report for the test set.\n",
    "\n",
    "This process involves training an SVM Classifier on TF-IDF features and evaluating its performance on the validation and test sets using accuracy and classification reports.\n"
   ],
   "metadata": {}
  },
  {
   "cell_type": "code",
   "source": [
    "from sklearn.svm import SVC\n",
    "\n",
    "# Initialize and train SVM Classifier model\n",
    "svm_classifier = SVC(kernel='linear', random_state=42)\n",
    "svm_classifier.fit(X_train_tfidf, train_labels)\n",
    "\n",
    "# Predictions on validation set\n",
    "val_predictions_svm = svm_classifier.predict(X_val_tfidf)\n",
    "\n",
    "# Evaluate model\n",
    "val_accuracy_svm = accuracy_score(val_labels, val_predictions_svm)\n",
    "print(\"SVM Validation Accuracy:\", val_accuracy_svm)\n",
    "print(\"SVM Classification Report:\")\n",
    "print(classification_report(val_labels, val_predictions_svm))\n",
    "\n",
    "# Predictions on test set\n",
    "test_predictions_svm = svm_classifier.predict(X_test_tfidf)\n",
    "\n",
    "# Evaluate model on test set\n",
    "test_accuracy_svm = accuracy_score(test_labels, test_predictions_svm)\n",
    "print(\"SVM Test Accuracy:\", test_accuracy_svm)\n",
    "print(\"SVM Classification Report:\")\n",
    "print(classification_report(test_labels, test_predictions_svm))\n"
   ],
   "metadata": {
    "execution": {
     "iopub.status.busy": "2024-02-17T15:08:07.497142Z",
     "iopub.execute_input": "2024-02-17T15:08:07.497570Z",
     "iopub.status.idle": "2024-02-17T15:08:08.015969Z",
     "shell.execute_reply.started": "2024-02-17T15:08:07.497529Z",
     "shell.execute_reply": "2024-02-17T15:08:08.014918Z"
    },
    "trusted": true
   },
   "execution_count": 42,
   "outputs": [
    {
     "name": "stdout",
     "text": "SVM Validation Accuracy: 1.0\nSVM Classification Report:\n              precision    recall  f1-score   support\n\n           0       1.00      1.00      1.00         3\n           1       1.00      1.00      1.00         2\n           2       1.00      1.00      1.00         1\n           3       1.00      1.00      1.00         6\n           4       1.00      1.00      1.00         1\n           5       1.00      1.00      1.00         1\n           6       1.00      1.00      1.00         5\n           7       1.00      1.00      1.00         3\n           8       1.00      1.00      1.00         1\n           9       1.00      1.00      1.00         5\n          10       1.00      1.00      1.00         1\n          11       1.00      1.00      1.00         2\n          12       1.00      1.00      1.00         1\n\n    accuracy                           1.00        32\n   macro avg       1.00      1.00      1.00        32\nweighted avg       1.00      1.00      1.00        32\n\nSVM Test Accuracy: 0.975\nSVM Classification Report:\n              precision    recall  f1-score   support\n\n           0       1.00      1.00      1.00         5\n           1       1.00      1.00      1.00         6\n           2       1.00      1.00      1.00         6\n           3       1.00      1.00      1.00         6\n           4       1.00      1.00      1.00         5\n           5       1.00      1.00      1.00         9\n           6       1.00      1.00      1.00         3\n           7       1.00      1.00      1.00         3\n           8       1.00      0.78      0.88         9\n           9       1.00      1.00      1.00         8\n          10       1.00      1.00      1.00         6\n          11       1.00      1.00      1.00         7\n          12       0.78      1.00      0.88         7\n\n    accuracy                           0.97        80\n   macro avg       0.98      0.98      0.98        80\nweighted avg       0.98      0.97      0.97        80\n\n",
     "output_type": "stream"
    }
   ]
  },
  {
   "cell_type": "markdown",
   "source": [
    "## Preprocessing and Predicting New Text with SVM Classifier\n",
    "\n",
    "In this block of code, new text is preprocessed and predicted using the trained SVM Classifier. Here's an explanation of each step:\n",
    "\n",
    "- **Preprocessing New Text**:\n",
    "  - Each text in the test set (`test_texts`) is preprocessed using the `preprocess_text()` function to normalize, tokenize, and remove stopwords.\n",
    "\n",
    "- **Transforming Text into Features**:\n",
    "  - The preprocessed text is transformed into features using the TF-IDF vectorizer (`tfidf_vectorizer.transform()`).\n",
    "\n",
    "- **Predicting Label of New Text**:\n",
    "  - The SVM Classifier (`svm_classifier`) predicts the label of the new text using `predict()`.\n",
    "\n",
    "- **Mapping Predicted Label to Author Name**:\n",
    "  - The predicted label is mapped back to the corresponding author name using the `label_dict` dictionary.\n",
    "  - The original author label and predicted author label are retrieved from the `test_labels` and `predicted_label`, respectively.\n",
    "\n",
    "- **Accuracy Calculation**:\n",
    "  - A counter (`svm_cnt`) is used to count the number of correct predictions.\n",
    "  - The accuracy is calculated as the ratio of correct predictions to the total number of predictions.\n",
    "\n",
    "- **Printing Predictions**:\n",
    "  - The predicted author name, original author name, predicted label, and original label are printed for each prediction.\n",
    "\n",
    "- **Printing Accuracy**:\n",
    "  - The accuracy of the SVM Classifier on the test set is printed.\n",
    "\n",
    "This process demonstrates how to preprocess new text, transform it into features using TF-IDF vectorization, predict the author label using the SVM Classifier, and calculate accuracy.\n"
   ],
   "metadata": {}
  },
  {
   "cell_type": "code",
   "source": [
    "# Preprocess the new text\n",
    "svm_cnt=0\n",
    "for i in range(len(test_texts)):\n",
    "    cleaned_new_text = preprocess_text(test_texts.iloc[i])\n",
    "\n",
    "    # Transform the preprocessed text into features using TF-IDF vectorizer\n",
    "    new_text_tfidf = tfidf_vectorizer.transform([cleaned_new_text])\n",
    "\n",
    "    # Predict label of the new text\n",
    "    predicted_label = svm_classifier.predict(new_text_tfidf)\n",
    "\n",
    "    # Map predicted label back to author name\n",
    "    predicted_author = [author for author, idx in label_dict.items() if idx == predicted_label.item()][0]\n",
    "    original_author = [author for author, idx in label_dict.items() if idx == test_labels.iloc[i]][0]\n",
    "    if test_labels.iloc[i]== predicted_label.item():\n",
    "        svm_cnt+=1\n",
    "    print(\"Predicted Author:\", predicted_author , \"original label:\",original_author )\n",
    "    print(\"Predicted Author:\", predicted_label.item() , \"original label:\",test_labels.iloc[i] )\n",
    "print(\"accuracy : \" , svm_cnt/len(test_texts))"
   ],
   "metadata": {
    "execution": {
     "iopub.status.busy": "2024-02-17T15:08:47.224774Z",
     "iopub.execute_input": "2024-02-17T15:08:47.226014Z",
     "iopub.status.idle": "2024-02-17T15:08:56.487606Z",
     "shell.execute_reply.started": "2024-02-17T15:08:47.225978Z",
     "shell.execute_reply": "2024-02-17T15:08:56.486674Z"
    },
    "trusted": true
   },
   "execution_count": 45,
   "outputs": [
    {
     "name": "stdout",
     "text": "Predicted Author: saadi original label: saadi\nPredicted Author: 10 original label: 10\nPredicted Author: ferdousi original label: ferdousi\nPredicted Author: 4 original label: 4\nPredicted Author: moulavi original label: moulavi\nPredicted Author: 8 original label: 8\nPredicted Author: jami original label: jami\nPredicted Author: 11 original label: 11\nPredicted Author: jami original label: jami\nPredicted Author: 11 original label: 11\nPredicted Author: saadi original label: saadi\nPredicted Author: 10 original label: 10\nPredicted Author: saadi original label: saadi\nPredicted Author: 10 original label: 10\nPredicted Author: ahamad seif original label: ahamad seif\nPredicted Author: 0 original label: 0\nPredicted Author: saadi original label: saadi\nPredicted Author: 10 original label: 10\nPredicted Author: rahi original label: rahi\nPredicted Author: 2 original label: 2\nPredicted Author: saeb original label: saeb\nPredicted Author: 12 original label: 12\nPredicted Author: moulavi original label: moulavi\nPredicted Author: 8 original label: 8\nPredicted Author: shahriar original label: shahriar\nPredicted Author: 7 original label: 7\nPredicted Author: seyed razi original label: seyed razi\nPredicted Author: 6 original label: 6\nPredicted Author: ferdousi original label: ferdousi\nPredicted Author: 4 original label: 4\nPredicted Author: behrooz farhadian original label: behrooz farhadian\nPredicted Author: 3 original label: 3\nPredicted Author: nezami original label: nezami\nPredicted Author: 9 original label: 9\nPredicted Author: ferdousi original label: ferdousi\nPredicted Author: 4 original label: 4\nPredicted Author: jami original label: jami\nPredicted Author: 11 original label: 11\nPredicted Author: rahi original label: rahi\nPredicted Author: 2 original label: 2\nPredicted Author: jooya original label: jooya\nPredicted Author: 5 original label: 5\nPredicted Author: moulavi original label: moulavi\nPredicted Author: 8 original label: 8\nPredicted Author: eraghi original label: eraghi\nPredicted Author: 1 original label: 1\nPredicted Author: rahi original label: rahi\nPredicted Author: 2 original label: 2\nPredicted Author: ahamad seif original label: ahamad seif\nPredicted Author: 0 original label: 0\nPredicted Author: eraghi original label: eraghi\nPredicted Author: 1 original label: 1\nPredicted Author: shahriar original label: shahriar\nPredicted Author: 7 original label: 7\nPredicted Author: jami original label: jami\nPredicted Author: 11 original label: 11\nPredicted Author: moulavi original label: moulavi\nPredicted Author: 8 original label: 8\nPredicted Author: saeb original label: saeb\nPredicted Author: 12 original label: 12\nPredicted Author: behrooz farhadian original label: behrooz farhadian\nPredicted Author: 3 original label: 3\nPredicted Author: ahamad seif original label: ahamad seif\nPredicted Author: 0 original label: 0\nPredicted Author: nezami original label: nezami\nPredicted Author: 9 original label: 9\nPredicted Author: ferdousi original label: ferdousi\nPredicted Author: 4 original label: 4\nPredicted Author: rahi original label: rahi\nPredicted Author: 2 original label: 2\nPredicted Author: behrooz farhadian original label: behrooz farhadian\nPredicted Author: 3 original label: 3\nPredicted Author: jooya original label: jooya\nPredicted Author: 5 original label: 5\nPredicted Author: seyed razi original label: seyed razi\nPredicted Author: 6 original label: 6\nPredicted Author: jami original label: jami\nPredicted Author: 11 original label: 11\nPredicted Author: saeb original label: saeb\nPredicted Author: 12 original label: 12\nPredicted Author: behrooz farhadian original label: behrooz farhadian\nPredicted Author: 3 original label: 3\nPredicted Author: moulavi original label: moulavi\nPredicted Author: 8 original label: 8\nPredicted Author: jami original label: jami\nPredicted Author: 11 original label: 11\nPredicted Author: jooya original label: jooya\nPredicted Author: 5 original label: 5\nPredicted Author: jooya original label: jooya\nPredicted Author: 5 original label: 5\nPredicted Author: saeb original label: saeb\nPredicted Author: 12 original label: 12\nPredicted Author: jami original label: jami\nPredicted Author: 11 original label: 11\nPredicted Author: saeb original label: saeb\nPredicted Author: 12 original label: 12\nPredicted Author: jooya original label: jooya\nPredicted Author: 5 original label: 5\nPredicted Author: eraghi original label: eraghi\nPredicted Author: 1 original label: 1\nPredicted Author: saeb original label: saeb\nPredicted Author: 12 original label: 12\nPredicted Author: rahi original label: rahi\nPredicted Author: 2 original label: 2\nPredicted Author: saeb original label: moulavi\nPredicted Author: 12 original label: 8\nPredicted Author: rahi original label: rahi\nPredicted Author: 2 original label: 2\nPredicted Author: nezami original label: nezami\nPredicted Author: 9 original label: 9\nPredicted Author: saeb original label: saeb\nPredicted Author: 12 original label: 12\nPredicted Author: nezami original label: nezami\nPredicted Author: 9 original label: 9\nPredicted Author: ahamad seif original label: ahamad seif\nPredicted Author: 0 original label: 0\nPredicted Author: jooya original label: jooya\nPredicted Author: 5 original label: 5\nPredicted Author: nezami original label: nezami\nPredicted Author: 9 original label: 9\nPredicted Author: seyed razi original label: seyed razi\nPredicted Author: 6 original label: 6\nPredicted Author: eraghi original label: eraghi\nPredicted Author: 1 original label: 1\nPredicted Author: shahriar original label: shahriar\nPredicted Author: 7 original label: 7\nPredicted Author: saadi original label: saadi\nPredicted Author: 10 original label: 10\nPredicted Author: eraghi original label: eraghi\nPredicted Author: 1 original label: 1\nPredicted Author: jooya original label: jooya\nPredicted Author: 5 original label: 5\nPredicted Author: ferdousi original label: ferdousi\nPredicted Author: 4 original label: 4\nPredicted Author: saadi original label: saadi\nPredicted Author: 10 original label: 10\nPredicted Author: nezami original label: nezami\nPredicted Author: 9 original label: 9\nPredicted Author: moulavi original label: moulavi\nPredicted Author: 8 original label: 8\nPredicted Author: nezami original label: nezami\nPredicted Author: 9 original label: 9\nPredicted Author: moulavi original label: moulavi\nPredicted Author: 8 original label: 8\nPredicted Author: behrooz farhadian original label: behrooz farhadian\nPredicted Author: 3 original label: 3\nPredicted Author: jooya original label: jooya\nPredicted Author: 5 original label: 5\nPredicted Author: behrooz farhadian original label: behrooz farhadian\nPredicted Author: 3 original label: 3\nPredicted Author: nezami original label: nezami\nPredicted Author: 9 original label: 9\nPredicted Author: jooya original label: jooya\nPredicted Author: 5 original label: 5\nPredicted Author: saeb original label: moulavi\nPredicted Author: 12 original label: 8\nPredicted Author: eraghi original label: eraghi\nPredicted Author: 1 original label: 1\nPredicted Author: ahamad seif original label: ahamad seif\nPredicted Author: 0 original label: 0\naccuracy :  0.975\n",
     "output_type": "stream"
    }
   ]
  }
 ]
}
